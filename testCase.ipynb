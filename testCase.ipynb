{
 "cells": [
  {
   "attachments": {},
   "cell_type": "markdown",
   "metadata": {},
   "source": [
    "Creation of the test line"
   ]
  },
  {
   "cell_type": "code",
   "execution_count": 89,
   "metadata": {},
   "outputs": [],
   "source": [
    "import pandas as pd\n",
    "import numpy as np\n",
    "\n",
    "df_test = pd.read_csv(\"fashion-mnist_test.csv\")\n",
    "\n",
    "Y_train = df_test.label\n",
    "X_train = df_test.drop(\"label\",axis=1)\n",
    "\n",
    "jsonToSent = X_train.iloc[0].to_json()\n",
    "jsonToSent = [eval(jsonToSent)]"
   ]
  },
  {
   "attachments": {},
   "cell_type": "markdown",
   "metadata": {},
   "source": [
    "Request"
   ]
  },
  {
   "cell_type": "code",
   "execution_count": 83,
   "metadata": {},
   "outputs": [],
   "source": [
    "import requests\n",
    "import json\n",
    "\n",
    "URL = 'http://127.0.0.1:5000/classify'\n",
    "r = requests.post(URL, json = jsonToSent)"
   ]
  },
  {
   "cell_type": "code",
   "execution_count": 97,
   "metadata": {},
   "outputs": [
    {
     "name": "stdout",
     "output_type": "stream",
     "text": [
      "Predicted : 0 T-shirt/top\n",
      "real :  T-shirt/top\n",
      "nice good pred !\n"
     ]
    }
   ],
   "source": [
    "class_names = ['T-shirt/top','Trouser','Pullover','Dress','Coat','Sandal','Shirt',\n",
    "               'Sneaker','Bag','Ankle boot']\n",
    "\n",
    "pred = np.argmax(r.json()[0])\n",
    "print(\"Predicted :\", pred,class_names[pred])\n",
    "print(\"real : \", class_names[Y_train.loc[0]])\n",
    "\n",
    "if pred ==Y_train.loc[0]:\n",
    "    print(\"nice good pred !\")"
   ]
  }
 ],
 "metadata": {
  "kernelspec": {
   "display_name": "Python 3",
   "language": "python",
   "name": "python3"
  },
  "language_info": {
   "codemirror_mode": {
    "name": "ipython",
    "version": 3
   },
   "file_extension": ".py",
   "mimetype": "text/x-python",
   "name": "python",
   "nbconvert_exporter": "python",
   "pygments_lexer": "ipython3",
   "version": "3.8.10"
  },
  "orig_nbformat": 4,
  "vscode": {
   "interpreter": {
    "hash": "9d33f494569571c8acf53a5432790372483694839ba515df8b9d24e79e68b904"
   }
  }
 },
 "nbformat": 4,
 "nbformat_minor": 2
}
