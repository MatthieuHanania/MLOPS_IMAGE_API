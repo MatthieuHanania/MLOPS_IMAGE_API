{
 "cells": [
  {
   "cell_type": "code",
   "execution_count": 1,
   "metadata": {
    "id": "-R9Hl14HIVnM"
   },
   "outputs": [],
   "source": [
    "#TensorFlow and tf.keras\n",
    "import tensorflow as tf\n",
    "from tensorflow import keras\n",
    "from datetime import datetime\n",
    "\n",
    "#Helper libraries\n",
    "import numpy as np\n",
    "import matplotlib.pyplot as plt\n",
    "\n",
    "import pandas as pd"
   ]
  },
  {
   "cell_type": "code",
   "execution_count": 2,
   "metadata": {
    "id": "4XNtkYoaJZcT"
   },
   "outputs": [],
   "source": [
    "df_mnist = pd.read_csv(\"fashion-mnist-train-1.csv\")\n",
    "\n",
    "Y_train = df_mnist.label\n",
    "X_train = df_mnist.drop(\"label\",axis=1)"
   ]
  },
  {
   "cell_type": "code",
   "execution_count": 3,
   "metadata": {
    "colab": {
     "base_uri": "https://localhost:8080/"
    },
    "id": "uudsHALYMobz",
    "outputId": "00de4423-89be-41da-e35d-d2b5c437c210"
   },
   "outputs": [
    {
     "name": "stdout",
     "output_type": "stream",
     "text": [
      "(14999, 784) (14999,)\n"
     ]
    }
   ],
   "source": [
    "print(X_train.shape,Y_train.shape)"
   ]
  },
  {
   "cell_type": "code",
   "execution_count": 4,
   "metadata": {
    "id": "c_uwa5uUNDub"
   },
   "outputs": [],
   "source": [
    "X_train=X_train/255"
   ]
  },
  {
   "cell_type": "code",
   "execution_count": 5,
   "metadata": {
    "id": "dsxOnrZXNr0a"
   },
   "outputs": [],
   "source": [
    "class_names = ['T-shirt/top','Trouser','Pullover','Dress','Coat','Sandal','Shirt',\n",
    "               'Sneaker','Bag','Ankle boot']"
   ]
  },
  {
   "cell_type": "code",
   "execution_count": 6,
   "metadata": {
    "id": "fpEw0vSRN3x-"
   },
   "outputs": [],
   "source": [
    "model = keras.Sequential([\n",
    "  keras.layers.Flatten(input_shape =(784,)),\n",
    "  keras.layers.Dense(128,activation='relu'),\n",
    "  keras.layers.Dense(10,activation='softmax') \n",
    "])"
   ]
  },
  {
   "cell_type": "code",
   "execution_count": 8,
   "metadata": {
    "id": "2p5Qe84bO5Qi"
   },
   "outputs": [],
   "source": [
    "model.compile(optimizer='adam',\n",
    "              loss='sparse_categorical_crossentropy',\n",
    "              metrics=['accuracy'])"
   ]
  },
  {
   "cell_type": "code",
   "execution_count": 9,
   "metadata": {
    "colab": {
     "base_uri": "https://localhost:8080/"
    },
    "id": "3M2F9HjNOsMC",
    "outputId": "8cc683f5-ed9f-40b9-eaca-f5deab10f0c3"
   },
   "outputs": [
    {
     "name": "stdout",
     "output_type": "stream",
     "text": [
      "Epoch 1/100\n",
      "469/469 [==============================] - 2s 2ms/step - loss: 0.6475 - accuracy: 0.7788: 0s - loss: 0.6510 - accuracy: 0.77\n",
      "Epoch 2/100\n",
      "469/469 [==============================] - 1s 2ms/step - loss: 0.4677 - accuracy: 0.8368\n",
      "Epoch 3/100\n",
      "469/469 [==============================] - 1s 2ms/step - loss: 0.4155 - accuracy: 0.8525\n",
      "Epoch 4/100\n",
      "469/469 [==============================] - 1s 2ms/step - loss: 0.3841 - accuracy: 0.8615\n",
      "Epoch 5/100\n",
      "469/469 [==============================] - 1s 2ms/step - loss: 0.3617 - accuracy: 0.8683: 0s -\n",
      "Epoch 6/100\n",
      "469/469 [==============================] - 1s 2ms/step - loss: 0.3398 - accuracy: 0.8751\n",
      "Epoch 7/100\n",
      "469/469 [==============================] - 1s 2ms/step - loss: 0.3190 - accuracy: 0.8808\n",
      "Epoch 8/100\n",
      "469/469 [==============================] - 1s 2ms/step - loss: 0.3075 - accuracy: 0.8870\n",
      "Epoch 9/100\n",
      "469/469 [==============================] - 1s 2ms/step - loss: 0.2922 - accuracy: 0.8923\n",
      "Epoch 10/100\n",
      "469/469 [==============================] - 1s 2ms/step - loss: 0.2755 - accuracy: 0.8977\n",
      "Epoch 11/100\n",
      "469/469 [==============================] - 1s 2ms/step - loss: 0.2621 - accuracy: 0.9053\n",
      "Epoch 12/100\n",
      "469/469 [==============================] - 1s 2ms/step - loss: 0.2515 - accuracy: 0.9068\n",
      "Epoch 13/100\n",
      "469/469 [==============================] - 1s 2ms/step - loss: 0.2423 - accuracy: 0.9111\n",
      "Epoch 14/100\n",
      "469/469 [==============================] - 1s 2ms/step - loss: 0.2341 - accuracy: 0.9159\n",
      "Epoch 15/100\n",
      "469/469 [==============================] - 1s 2ms/step - loss: 0.2218 - accuracy: 0.9186\n",
      "Epoch 16/100\n",
      "469/469 [==============================] - 1s 2ms/step - loss: 0.2156 - accuracy: 0.9192\n",
      "Epoch 17/100\n",
      "469/469 [==============================] - 1s 2ms/step - loss: 0.2041 - accuracy: 0.9243\n",
      "Epoch 18/100\n",
      "469/469 [==============================] - 1s 2ms/step - loss: 0.1980 - accuracy: 0.9280\n",
      "Epoch 19/100\n",
      "469/469 [==============================] - 1s 2ms/step - loss: 0.1874 - accuracy: 0.9297\n",
      "Epoch 20/100\n",
      "469/469 [==============================] - 1s 2ms/step - loss: 0.1828 - accuracy: 0.9333\n",
      "Epoch 21/100\n",
      "469/469 [==============================] - 1s 2ms/step - loss: 0.1748 - accuracy: 0.9351\n",
      "Epoch 22/100\n",
      "469/469 [==============================] - 1s 2ms/step - loss: 0.1655 - accuracy: 0.9406\n",
      "Epoch 23/100\n",
      "469/469 [==============================] - 1s 2ms/step - loss: 0.1625 - accuracy: 0.9419\n",
      "Epoch 24/100\n",
      "469/469 [==============================] - 1s 2ms/step - loss: 0.1579 - accuracy: 0.9433\n",
      "Epoch 25/100\n",
      "469/469 [==============================] - 1s 2ms/step - loss: 0.1502 - accuracy: 0.9453\n",
      "Epoch 26/100\n",
      "469/469 [==============================] - 1s 2ms/step - loss: 0.1440 - accuracy: 0.9483\n",
      "Epoch 27/100\n",
      "469/469 [==============================] - 1s 2ms/step - loss: 0.1375 - accuracy: 0.9502\n",
      "Epoch 28/100\n",
      "469/469 [==============================] - 1s 2ms/step - loss: 0.1363 - accuracy: 0.9518\n",
      "Epoch 29/100\n",
      "469/469 [==============================] - 1s 2ms/step - loss: 0.1292 - accuracy: 0.9518\n",
      "Epoch 30/100\n",
      "469/469 [==============================] - 1s 2ms/step - loss: 0.1227 - accuracy: 0.9562\n",
      "Epoch 31/100\n",
      "469/469 [==============================] - 1s 2ms/step - loss: 0.1230 - accuracy: 0.9567\n",
      "Epoch 32/100\n",
      "469/469 [==============================] - 1s 2ms/step - loss: 0.1153 - accuracy: 0.9581\n",
      "Epoch 33/100\n",
      "469/469 [==============================] - 1s 2ms/step - loss: 0.1161 - accuracy: 0.9595\n",
      "Epoch 34/100\n",
      "469/469 [==============================] - 1s 2ms/step - loss: 0.1119 - accuracy: 0.9595\n",
      "Epoch 35/100\n",
      "469/469 [==============================] - 1s 2ms/step - loss: 0.1097 - accuracy: 0.9612\n",
      "Epoch 36/100\n",
      "469/469 [==============================] - 1s 2ms/step - loss: 0.0961 - accuracy: 0.9665\n",
      "Epoch 37/100\n",
      "469/469 [==============================] - 1s 2ms/step - loss: 0.1040 - accuracy: 0.9620\n",
      "Epoch 38/100\n",
      "469/469 [==============================] - 1s 2ms/step - loss: 0.0971 - accuracy: 0.9649\n",
      "Epoch 39/100\n",
      "469/469 [==============================] - 1s 2ms/step - loss: 0.0937 - accuracy: 0.9658\n",
      "Epoch 40/100\n",
      "469/469 [==============================] - 1s 2ms/step - loss: 0.0917 - accuracy: 0.9669\n",
      "Epoch 41/100\n",
      "469/469 [==============================] - 1s 2ms/step - loss: 0.0840 - accuracy: 0.9699\n",
      "Epoch 42/100\n",
      "469/469 [==============================] - 1s 2ms/step - loss: 0.0875 - accuracy: 0.9695\n",
      "Epoch 43/100\n",
      "469/469 [==============================] - 1s 2ms/step - loss: 0.0745 - accuracy: 0.9741\n",
      "Epoch 44/100\n",
      "469/469 [==============================] - 1s 2ms/step - loss: 0.0843 - accuracy: 0.9694\n",
      "Epoch 45/100\n",
      "469/469 [==============================] - 1s 2ms/step - loss: 0.0820 - accuracy: 0.9706\n",
      "Epoch 46/100\n",
      "469/469 [==============================] - 1s 2ms/step - loss: 0.0736 - accuracy: 0.9746\n",
      "Epoch 47/100\n",
      "469/469 [==============================] - 1s 2ms/step - loss: 0.0722 - accuracy: 0.9749\n",
      "Epoch 48/100\n",
      "469/469 [==============================] - 1s 2ms/step - loss: 0.0711 - accuracy: 0.9755\n",
      "Epoch 49/100\n",
      "469/469 [==============================] - 1s 2ms/step - loss: 0.0672 - accuracy: 0.9771\n",
      "Epoch 50/100\n",
      "469/469 [==============================] - 1s 2ms/step - loss: 0.0746 - accuracy: 0.9728\n",
      "Epoch 51/100\n",
      "469/469 [==============================] - 1s 2ms/step - loss: 0.0575 - accuracy: 0.9809\n",
      "Epoch 52/100\n",
      "469/469 [==============================] - 1s 2ms/step - loss: 0.0671 - accuracy: 0.9767\n",
      "Epoch 53/100\n",
      "469/469 [==============================] - 1s 2ms/step - loss: 0.0584 - accuracy: 0.9797\n",
      "Epoch 54/100\n",
      "469/469 [==============================] - 1s 2ms/step - loss: 0.0618 - accuracy: 0.9786\n",
      "Epoch 55/100\n",
      "469/469 [==============================] - 1s 2ms/step - loss: 0.0574 - accuracy: 0.9797\n",
      "Epoch 56/100\n",
      "469/469 [==============================] - 1s 2ms/step - loss: 0.0618 - accuracy: 0.9777\n",
      "Epoch 57/100\n",
      "469/469 [==============================] - 1s 2ms/step - loss: 0.0530 - accuracy: 0.9815\n",
      "Epoch 58/100\n",
      "469/469 [==============================] - 1s 2ms/step - loss: 0.0522 - accuracy: 0.9815\n",
      "Epoch 59/100\n",
      "469/469 [==============================] - 1s 2ms/step - loss: 0.0523 - accuracy: 0.9811\n",
      "Epoch 60/100\n",
      "469/469 [==============================] - 1s 2ms/step - loss: 0.0558 - accuracy: 0.9802\n",
      "Epoch 61/100\n",
      "469/469 [==============================] - 1s 2ms/step - loss: 0.0628 - accuracy: 0.9781\n",
      "Epoch 62/100\n",
      "469/469 [==============================] - 1s 2ms/step - loss: 0.0424 - accuracy: 0.9851\n",
      "Epoch 63/100\n",
      "469/469 [==============================] - 1s 2ms/step - loss: 0.0527 - accuracy: 0.9819\n",
      "Epoch 64/100\n",
      "469/469 [==============================] - 1s 2ms/step - loss: 0.0520 - accuracy: 0.9820\n",
      "Epoch 65/100\n",
      "469/469 [==============================] - 1s 2ms/step - loss: 0.0387 - accuracy: 0.9871\n",
      "Epoch 66/100\n",
      "469/469 [==============================] - 1s 2ms/step - loss: 0.0448 - accuracy: 0.9835\n",
      "Epoch 67/100\n",
      "469/469 [==============================] - 1s 2ms/step - loss: 0.0534 - accuracy: 0.9821\n",
      "Epoch 68/100\n",
      "469/469 [==============================] - 1s 2ms/step - loss: 0.0429 - accuracy: 0.9853\n",
      "Epoch 69/100\n",
      "469/469 [==============================] - 1s 2ms/step - loss: 0.0364 - accuracy: 0.9878\n",
      "Epoch 70/100\n",
      "469/469 [==============================] - 1s 2ms/step - loss: 0.0422 - accuracy: 0.9851\n",
      "Epoch 71/100\n",
      "469/469 [==============================] - 1s 2ms/step - loss: 0.0448 - accuracy: 0.9842\n",
      "Epoch 72/100\n",
      "469/469 [==============================] - 1s 2ms/step - loss: 0.0402 - accuracy: 0.9874\n",
      "Epoch 73/100\n",
      "469/469 [==============================] - 1s 2ms/step - loss: 0.0358 - accuracy: 0.9877\n",
      "Epoch 74/100\n",
      "469/469 [==============================] - 1s 2ms/step - loss: 0.0362 - accuracy: 0.9872\n",
      "Epoch 75/100\n",
      "469/469 [==============================] - 1s 2ms/step - loss: 0.0456 - accuracy: 0.9831\n",
      "Epoch 76/100\n",
      "469/469 [==============================] - 1s 2ms/step - loss: 0.0454 - accuracy: 0.9840\n",
      "Epoch 77/100\n",
      "469/469 [==============================] - 1s 2ms/step - loss: 0.0301 - accuracy: 0.9897\n",
      "Epoch 78/100\n",
      "469/469 [==============================] - 1s 2ms/step - loss: 0.0334 - accuracy: 0.9883\n",
      "Epoch 79/100\n",
      "469/469 [==============================] - 1s 2ms/step - loss: 0.0341 - accuracy: 0.9884\n",
      "Epoch 80/100\n",
      "469/469 [==============================] - 1s 2ms/step - loss: 0.0359 - accuracy: 0.9867\n"
     ]
    },
    {
     "name": "stdout",
     "output_type": "stream",
     "text": [
      "Epoch 81/100\n",
      "469/469 [==============================] - 1s 2ms/step - loss: 0.0344 - accuracy: 0.9877\n",
      "Epoch 82/100\n",
      "469/469 [==============================] - 1s 2ms/step - loss: 0.0405 - accuracy: 0.9853\n",
      "Epoch 83/100\n",
      "469/469 [==============================] - 1s 2ms/step - loss: 0.0378 - accuracy: 0.9855\n",
      "Epoch 84/100\n",
      "469/469 [==============================] - 1s 2ms/step - loss: 0.0310 - accuracy: 0.9890\n",
      "Epoch 85/100\n",
      "469/469 [==============================] - 1s 2ms/step - loss: 0.0298 - accuracy: 0.9889\n",
      "Epoch 86/100\n",
      "469/469 [==============================] - 1s 2ms/step - loss: 0.0212 - accuracy: 0.9933\n",
      "Epoch 87/100\n",
      "469/469 [==============================] - 1s 2ms/step - loss: 0.0266 - accuracy: 0.9913\n",
      "Epoch 88/100\n",
      "469/469 [==============================] - 1s 2ms/step - loss: 0.0427 - accuracy: 0.9852\n",
      "Epoch 89/100\n",
      "469/469 [==============================] - 1s 2ms/step - loss: 0.0360 - accuracy: 0.9873\n",
      "Epoch 90/100\n",
      "469/469 [==============================] - 1s 2ms/step - loss: 0.0310 - accuracy: 0.9888\n",
      "Epoch 91/100\n",
      "469/469 [==============================] - 1s 2ms/step - loss: 0.0216 - accuracy: 0.9933\n",
      "Epoch 92/100\n",
      "469/469 [==============================] - 1s 2ms/step - loss: 0.0344 - accuracy: 0.9882\n",
      "Epoch 93/100\n",
      "469/469 [==============================] - 1s 2ms/step - loss: 0.0291 - accuracy: 0.9905\n",
      "Epoch 94/100\n",
      "469/469 [==============================] - 1s 2ms/step - loss: 0.0268 - accuracy: 0.9911\n",
      "Epoch 95/100\n",
      "469/469 [==============================] - 1s 2ms/step - loss: 0.0318 - accuracy: 0.9893\n",
      "Epoch 96/100\n",
      "469/469 [==============================] - 1s 2ms/step - loss: 0.0271 - accuracy: 0.9907\n",
      "Epoch 97/100\n",
      "469/469 [==============================] - 1s 2ms/step - loss: 0.0270 - accuracy: 0.9909\n",
      "Epoch 98/100\n",
      "469/469 [==============================] - 1s 2ms/step - loss: 0.0213 - accuracy: 0.9926\n",
      "Epoch 99/100\n",
      "469/469 [==============================] - 1s 2ms/step - loss: 0.0187 - accuracy: 0.9935\n",
      "Epoch 100/100\n",
      "469/469 [==============================] - 1s 2ms/step - loss: 0.0439 - accuracy: 0.9856\n",
      "temps mis: 0:01:29.331817\n"
     ]
    }
   ],
   "source": [
    "begin =datetime.now()\n",
    "\n",
    "model.fit(X_train,Y_train,epochs=100)\n",
    "\n",
    "end = datetime.now()\n",
    "\n",
    "print(\"temps mis:\", end-begin)"
   ]
  },
  {
   "cell_type": "code",
   "execution_count": 10,
   "metadata": {
    "id": "GHtRiDzBO2Pk"
   },
   "outputs": [
    {
     "name": "stdout",
     "output_type": "stream",
     "text": [
      "INFO:tensorflow:Assets written to: mnistModel\\assets\n"
     ]
    }
   ],
   "source": [
    "model.save('mnistModel')"
   ]
  },
  {
   "cell_type": "code",
   "execution_count": null,
   "metadata": {},
   "outputs": [],
   "source": []
  }
 ],
 "metadata": {
  "accelerator": "GPU",
  "colab": {
   "provenance": []
  },
  "gpuClass": "standard",
  "kernelspec": {
   "display_name": "Python 3",
   "language": "python",
   "name": "python3"
  },
  "language_info": {
   "codemirror_mode": {
    "name": "ipython",
    "version": 3
   },
   "file_extension": ".py",
   "mimetype": "text/x-python",
   "name": "python",
   "nbconvert_exporter": "python",
   "pygments_lexer": "ipython3",
   "version": "3.8.10 (tags/v3.8.10:3d8993a, May  3 2021, 11:48:03) [MSC v.1928 64 bit (AMD64)]"
  },
  "vscode": {
   "interpreter": {
    "hash": "9d33f494569571c8acf53a5432790372483694839ba515df8b9d24e79e68b904"
   }
  }
 },
 "nbformat": 4,
 "nbformat_minor": 1
}
